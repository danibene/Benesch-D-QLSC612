{
 "cells": [
  {
   "cell_type": "code",
   "execution_count": 1,
   "metadata": {
    "colab": {
     "base_uri": "https://localhost:8080/",
     "height": 51
    },
    "colab_type": "code",
    "id": "8jwGNrxb4E2y",
    "outputId": "ea50b254-0f56-4ec3-f8bd-aa3f49212452"
   },
   "outputs": [],
   "source": [
    "import numpy as np\n",
    "import pandas as pd\n",
    "from statsmodels.formula.api import ols"
   ]
  },
  {
   "cell_type": "code",
   "execution_count": 2,
   "metadata": {
    "colab": {},
    "colab_type": "code",
    "id": "MeIt8OdksqQS"
   },
   "outputs": [],
   "source": [
    "np.random.seed(42)"
   ]
  },
  {
   "cell_type": "code",
   "execution_count": 3,
   "metadata": {
    "colab": {
     "base_uri": "https://localhost:8080/",
     "height": 136
    },
    "colab_type": "code",
    "id": "ZGEoDXkUsnUf",
    "outputId": "639f0db8-f02b-45ab-bf50-3722a0c7ec08"
   },
   "outputs": [
    {
     "name": "stdout",
     "output_type": "stream",
     "text": [
      "   Gender  FSIQ  VIQ  PIQ  Weight  Height  MRI_Count\n",
      "1  Female   133  132  124   118.0    64.5     816932\n",
      "2    Male   140  150  124     NaN    72.5    1001121\n",
      "3    Male   139  123  150   143.0    73.3    1038437\n",
      "4    Male   133  129  128   172.0    68.8     965353\n",
      "5  Female   137  132  134   147.0    65.0     951545\n",
      "40\n"
     ]
    }
   ],
   "source": [
    "url = 'https://raw.githubusercontent.com/neurodatascience/course-2020-assessments/master/practical/brainsize.csv'\n",
    "df = pd.read_csv(url, sep=';', na_values='.', index_col=0)\n",
    "\n",
    "print(df.head(5))\n",
    "print(len(df.index))"
   ]
  },
  {
   "cell_type": "code",
   "execution_count": 4,
   "metadata": {
    "colab": {
     "base_uri": "https://localhost:8080/",
     "height": 119
    },
    "colab_type": "code",
    "id": "jqCWrN-1vU3C",
    "outputId": "1da56344-05c1-41ca-fb74-1e110c38c816"
   },
   "outputs": [
    {
     "name": "stdout",
     "output_type": "stream",
     "text": [
      "   Gender  FSIQ  VIQ  PIQ  Weight  Height  MRI_Count     partY\n",
      "1  Female   133  132  124   118.0    64.5     816932  0.496714\n",
      "2    Male   140  150  124     NaN    72.5    1001121 -0.138264\n",
      "3    Male   139  123  150   143.0    73.3    1038437  0.647689\n",
      "4    Male   133  129  128   172.0    68.8     965353  1.523030\n",
      "5  Female   137  132  134   147.0    65.0     951545 -0.234153\n"
     ]
    }
   ],
   "source": [
    "partY = np.random.normal(loc=0.0, scale=1.0, size=len(df.index))\n",
    "df.insert(len(df.columns), 'partY', partY)\n",
    "print(df.head(5))"
   ]
  },
  {
   "cell_type": "code",
   "execution_count": 5,
   "metadata": {
    "colab": {
     "base_uri": "https://localhost:8080/",
     "height": 34
    },
    "colab_type": "code",
    "id": "xCPgzivvqrBu",
    "outputId": "35deeb61-b6b2-41db-aafa-b1dd369e3ac2"
   },
   "outputs": [
    {
     "name": "stdout",
     "output_type": "stream",
     "text": [
      "['Gender', 'FSIQ', 'VIQ', 'PIQ', 'Weight', 'Height', 'MRI_Count']\n"
     ]
    }
   ],
   "source": [
    "not_partY = list(df.columns[0:len(df.columns)-1])\n",
    "print(not_partY)"
   ]
  },
  {
   "cell_type": "code",
   "execution_count": 6,
   "metadata": {
    "colab": {},
    "colab_type": "code",
    "id": "fqnp-bpDn7w2"
   },
   "outputs": [],
   "source": [
    "model = ols('partY ~ PIQ + Weight', data=df).fit()\n",
    "model.summary()"
   ]
  },
  {
   "cell_type": "code",
   "execution_count": 7,
   "metadata": {
    "colab": {},
    "colab_type": "code",
    "id": "iuSk0wNWHCBG"
   },
   "outputs": [],
   "source": [
    "new_df = df.drop(1)"
   ]
  },
  {
   "cell_type": "code",
   "execution_count": 8,
   "metadata": {
    "colab": {},
    "colab_type": "code",
    "id": "J26qgl053JRn"
   },
   "outputs": [],
   "source": [
    "model = ols('partY ~ PIQ + Weight', data=new_df).fit()\n",
    "model.summary()"
   ]
  }
 ],
 "metadata": {
  "colab": {
   "name": "my_analysis.ipynb",
   "provenance": []
  },
  "kernelspec": {
   "display_name": "Python 3",
   "language": "python",
   "name": "python3"
  },
  "language_info": {
   "codemirror_mode": {
    "name": "ipython",
    "version": 3
   },
   "file_extension": ".py",
   "mimetype": "text/x-python",
   "name": "python",
   "nbconvert_exporter": "python",
   "pygments_lexer": "ipython3",
   "version": "3.7.6"
  }
 },
 "nbformat": 4,
 "nbformat_minor": 1
}
