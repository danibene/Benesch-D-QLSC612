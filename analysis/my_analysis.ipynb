{
 "cells": [
  {
   "cell_type": "code",
   "execution_count": 1,
   "metadata": {
    "colab": {
     "base_uri": "https://localhost:8080/",
     "height": 51
    },
    "colab_type": "code",
    "id": "8jwGNrxb4E2y",
    "outputId": "ea50b254-0f56-4ec3-f8bd-aa3f49212452"
   },
   "outputs": [],
   "source": [
    "from statsmodels.formula.api import ols\n",
    "\n",
    "import seaborn as sns\n",
    "import pandas as pd\n",
    "import numpy as np"
   ]
  },
  {
   "cell_type": "code",
   "execution_count": 2,
   "metadata": {
    "colab": {},
    "colab_type": "code",
    "id": "MeIt8OdksqQS"
   },
   "outputs": [],
   "source": [
    "np.random.seed(42)"
   ]
  },
  {
   "cell_type": "code",
   "execution_count": 3,
   "metadata": {
    "colab": {
     "base_uri": "https://localhost:8080/",
     "height": 136
    },
    "colab_type": "code",
    "id": "ZGEoDXkUsnUf",
    "outputId": "639f0db8-f02b-45ab-bf50-3722a0c7ec08"
   },
   "outputs": [
    {
     "name": "stdout",
     "output_type": "stream",
     "text": [
      "   Gender  FSIQ  VIQ  PIQ  Weight  Height  MRI_Count\n",
      "1  Female   133  132  124   118.0    64.5     816932\n",
      "2    Male   140  150  124     NaN    72.5    1001121\n",
      "3    Male   139  123  150   143.0    73.3    1038437\n",
      "4    Male   133  129  128   172.0    68.8     965353\n",
      "5  Female   137  132  134   147.0    65.0     951545\n",
      "40\n"
     ]
    }
   ],
   "source": [
    "url = 'https://raw.githubusercontent.com/danibene/Benesch-D-QLSC612/master/data/brainsize.csv'\n",
    "df = pd.read_csv(url, sep=';', na_values='.', index_col=0)\n",
    "\n",
    "print(df.head(5))\n",
    "print(len(df.index))"
   ]
  },
  {
   "cell_type": "code",
   "execution_count": 4,
   "metadata": {
    "colab": {
     "base_uri": "https://localhost:8080/",
     "height": 119
    },
    "colab_type": "code",
    "id": "jqCWrN-1vU3C",
    "outputId": "1da56344-05c1-41ca-fb74-1e110c38c816"
   },
   "outputs": [
    {
     "name": "stdout",
     "output_type": "stream",
     "text": [
      "   Gender  FSIQ  VIQ  PIQ  Weight  Height  MRI_Count     partY\n",
      "1  Female   133  132  124   118.0    64.5     816932  0.496714\n",
      "2    Male   140  150  124     NaN    72.5    1001121 -0.138264\n",
      "3    Male   139  123  150   143.0    73.3    1038437  0.647689\n",
      "4    Male   133  129  128   172.0    68.8     965353  1.523030\n",
      "5  Female   137  132  134   147.0    65.0     951545 -0.234153\n"
     ]
    }
   ],
   "source": [
    "partY = np.random.normal(loc=0.0, scale=1.0, size=len(df.index))\n",
    "df.insert(len(df.columns), 'partY', partY)\n",
    "print(df.head(5))"
   ]
  },
  {
   "cell_type": "code",
   "execution_count": 5,
   "metadata": {
    "colab": {},
    "colab_type": "code",
    "id": "fqnp-bpDn7w2"
   },
   "outputs": [
    {
     "data": {
      "text/html": [
       "<table class=\"simpletable\">\n",
       "<caption>OLS Regression Results</caption>\n",
       "<tr>\n",
       "  <th>Dep. Variable:</th>          <td>partY</td>      <th>  R-squared:         </th> <td>   0.191</td>\n",
       "</tr>\n",
       "<tr>\n",
       "  <th>Model:</th>                   <td>OLS</td>       <th>  Adj. R-squared:    </th> <td>   0.145</td>\n",
       "</tr>\n",
       "<tr>\n",
       "  <th>Method:</th>             <td>Least Squares</td>  <th>  F-statistic:       </th> <td>   4.134</td>\n",
       "</tr>\n",
       "<tr>\n",
       "  <th>Date:</th>             <td>Sun, 31 May 2020</td> <th>  Prob (F-statistic):</th>  <td>0.0244</td> \n",
       "</tr>\n",
       "<tr>\n",
       "  <th>Time:</th>                 <td>21:48:29</td>     <th>  Log-Likelihood:    </th> <td> -46.908</td>\n",
       "</tr>\n",
       "<tr>\n",
       "  <th>No. Observations:</th>      <td>    38</td>      <th>  AIC:               </th> <td>   99.82</td>\n",
       "</tr>\n",
       "<tr>\n",
       "  <th>Df Residuals:</th>          <td>    35</td>      <th>  BIC:               </th> <td>   104.7</td>\n",
       "</tr>\n",
       "<tr>\n",
       "  <th>Df Model:</th>              <td>     2</td>      <th>                     </th>     <td> </td>   \n",
       "</tr>\n",
       "<tr>\n",
       "  <th>Covariance Type:</th>      <td>nonrobust</td>    <th>                     </th>     <td> </td>   \n",
       "</tr>\n",
       "</table>\n",
       "<table class=\"simpletable\">\n",
       "<tr>\n",
       "      <td></td>         <th>coef</th>     <th>std err</th>      <th>t</th>      <th>P>|t|</th>  <th>[0.025</th>    <th>0.975]</th>  \n",
       "</tr>\n",
       "<tr>\n",
       "  <th>Intercept</th> <td>   -3.5064</td> <td>    1.161</td> <td>   -3.019</td> <td> 0.005</td> <td>   -5.864</td> <td>   -1.149</td>\n",
       "</tr>\n",
       "<tr>\n",
       "  <th>PIQ</th>       <td>    0.0138</td> <td>    0.006</td> <td>    2.186</td> <td> 0.036</td> <td>    0.001</td> <td>    0.027</td>\n",
       "</tr>\n",
       "<tr>\n",
       "  <th>Weight</th>    <td>    0.0113</td> <td>    0.006</td> <td>    1.863</td> <td> 0.071</td> <td>   -0.001</td> <td>    0.024</td>\n",
       "</tr>\n",
       "</table>\n",
       "<table class=\"simpletable\">\n",
       "<tr>\n",
       "  <th>Omnibus:</th>       <td> 0.663</td> <th>  Durbin-Watson:     </th> <td>   2.013</td>\n",
       "</tr>\n",
       "<tr>\n",
       "  <th>Prob(Omnibus):</th> <td> 0.718</td> <th>  Jarque-Bera (JB):  </th> <td>   0.203</td>\n",
       "</tr>\n",
       "<tr>\n",
       "  <th>Skew:</th>          <td>-0.166</td> <th>  Prob(JB):          </th> <td>   0.903</td>\n",
       "</tr>\n",
       "<tr>\n",
       "  <th>Kurtosis:</th>      <td> 3.136</td> <th>  Cond. No.          </th> <td>1.56e+03</td>\n",
       "</tr>\n",
       "</table><br/><br/>Warnings:<br/>[1] Standard Errors assume that the covariance matrix of the errors is correctly specified.<br/>[2] The condition number is large, 1.56e+03. This might indicate that there are<br/>strong multicollinearity or other numerical problems."
      ],
      "text/plain": [
       "<class 'statsmodels.iolib.summary.Summary'>\n",
       "\"\"\"\n",
       "                            OLS Regression Results                            \n",
       "==============================================================================\n",
       "Dep. Variable:                  partY   R-squared:                       0.191\n",
       "Model:                            OLS   Adj. R-squared:                  0.145\n",
       "Method:                 Least Squares   F-statistic:                     4.134\n",
       "Date:                Sun, 31 May 2020   Prob (F-statistic):             0.0244\n",
       "Time:                        21:48:29   Log-Likelihood:                -46.908\n",
       "No. Observations:                  38   AIC:                             99.82\n",
       "Df Residuals:                      35   BIC:                             104.7\n",
       "Df Model:                           2                                         \n",
       "Covariance Type:            nonrobust                                         \n",
       "==============================================================================\n",
       "                 coef    std err          t      P>|t|      [0.025      0.975]\n",
       "------------------------------------------------------------------------------\n",
       "Intercept     -3.5064      1.161     -3.019      0.005      -5.864      -1.149\n",
       "PIQ            0.0138      0.006      2.186      0.036       0.001       0.027\n",
       "Weight         0.0113      0.006      1.863      0.071      -0.001       0.024\n",
       "==============================================================================\n",
       "Omnibus:                        0.663   Durbin-Watson:                   2.013\n",
       "Prob(Omnibus):                  0.718   Jarque-Bera (JB):                0.203\n",
       "Skew:                          -0.166   Prob(JB):                        0.903\n",
       "Kurtosis:                       3.136   Cond. No.                     1.56e+03\n",
       "==============================================================================\n",
       "\n",
       "Warnings:\n",
       "[1] Standard Errors assume that the covariance matrix of the errors is correctly specified.\n",
       "[2] The condition number is large, 1.56e+03. This might indicate that there are\n",
       "strong multicollinearity or other numerical problems.\n",
       "\"\"\""
      ]
     },
     "execution_count": 5,
     "metadata": {},
     "output_type": "execute_result"
    }
   ],
   "source": [
    "model = ols('partY ~ PIQ + Weight', data=df).fit()\n",
    "model.summary()"
   ]
  },
  {
   "cell_type": "code",
   "execution_count": 6,
   "metadata": {
    "colab": {},
    "colab_type": "code",
    "id": "iuSk0wNWHCBG"
   },
   "outputs": [],
   "source": [
    "df_without_first = df.drop(1)"
   ]
  },
  {
   "cell_type": "code",
   "execution_count": 7,
   "metadata": {
    "colab": {},
    "colab_type": "code",
    "id": "J26qgl053JRn"
   },
   "outputs": [
    {
     "data": {
      "text/html": [
       "<table class=\"simpletable\">\n",
       "<caption>OLS Regression Results</caption>\n",
       "<tr>\n",
       "  <th>Dep. Variable:</th>          <td>partY</td>      <th>  R-squared:         </th> <td>   0.208</td>\n",
       "</tr>\n",
       "<tr>\n",
       "  <th>Model:</th>                   <td>OLS</td>       <th>  Adj. R-squared:    </th> <td>   0.161</td>\n",
       "</tr>\n",
       "<tr>\n",
       "  <th>Method:</th>             <td>Least Squares</td>  <th>  F-statistic:       </th> <td>   4.458</td>\n",
       "</tr>\n",
       "<tr>\n",
       "  <th>Date:</th>             <td>Sun, 31 May 2020</td> <th>  Prob (F-statistic):</th>  <td>0.0191</td> \n",
       "</tr>\n",
       "<tr>\n",
       "  <th>Time:</th>                 <td>21:48:29</td>     <th>  Log-Likelihood:    </th> <td> -45.440</td>\n",
       "</tr>\n",
       "<tr>\n",
       "  <th>No. Observations:</th>      <td>    37</td>      <th>  AIC:               </th> <td>   96.88</td>\n",
       "</tr>\n",
       "<tr>\n",
       "  <th>Df Residuals:</th>          <td>    34</td>      <th>  BIC:               </th> <td>   101.7</td>\n",
       "</tr>\n",
       "<tr>\n",
       "  <th>Df Model:</th>              <td>     2</td>      <th>                     </th>     <td> </td>   \n",
       "</tr>\n",
       "<tr>\n",
       "  <th>Covariance Type:</th>      <td>nonrobust</td>    <th>                     </th>     <td> </td>   \n",
       "</tr>\n",
       "</table>\n",
       "<table class=\"simpletable\">\n",
       "<tr>\n",
       "      <td></td>         <th>coef</th>     <th>std err</th>      <th>t</th>      <th>P>|t|</th>  <th>[0.025</th>    <th>0.975]</th>  \n",
       "</tr>\n",
       "<tr>\n",
       "  <th>Intercept</th> <td>   -3.7133</td> <td>    1.169</td> <td>   -3.177</td> <td> 0.003</td> <td>   -6.089</td> <td>   -1.338</td>\n",
       "</tr>\n",
       "<tr>\n",
       "  <th>PIQ</th>       <td>    0.0131</td> <td>    0.006</td> <td>    2.074</td> <td> 0.046</td> <td>    0.000</td> <td>    0.026</td>\n",
       "</tr>\n",
       "<tr>\n",
       "  <th>Weight</th>    <td>    0.0130</td> <td>    0.006</td> <td>    2.095</td> <td> 0.044</td> <td>    0.000</td> <td>    0.026</td>\n",
       "</tr>\n",
       "</table>\n",
       "<table class=\"simpletable\">\n",
       "<tr>\n",
       "  <th>Omnibus:</th>       <td> 0.655</td> <th>  Durbin-Watson:     </th> <td>   2.085</td>\n",
       "</tr>\n",
       "<tr>\n",
       "  <th>Prob(Omnibus):</th> <td> 0.721</td> <th>  Jarque-Bera (JB):  </th> <td>   0.139</td>\n",
       "</tr>\n",
       "<tr>\n",
       "  <th>Skew:</th>          <td>-0.115</td> <th>  Prob(JB):          </th> <td>   0.933</td>\n",
       "</tr>\n",
       "<tr>\n",
       "  <th>Kurtosis:</th>      <td> 3.193</td> <th>  Cond. No.          </th> <td>1.56e+03</td>\n",
       "</tr>\n",
       "</table><br/><br/>Warnings:<br/>[1] Standard Errors assume that the covariance matrix of the errors is correctly specified.<br/>[2] The condition number is large, 1.56e+03. This might indicate that there are<br/>strong multicollinearity or other numerical problems."
      ],
      "text/plain": [
       "<class 'statsmodels.iolib.summary.Summary'>\n",
       "\"\"\"\n",
       "                            OLS Regression Results                            \n",
       "==============================================================================\n",
       "Dep. Variable:                  partY   R-squared:                       0.208\n",
       "Model:                            OLS   Adj. R-squared:                  0.161\n",
       "Method:                 Least Squares   F-statistic:                     4.458\n",
       "Date:                Sun, 31 May 2020   Prob (F-statistic):             0.0191\n",
       "Time:                        21:48:29   Log-Likelihood:                -45.440\n",
       "No. Observations:                  37   AIC:                             96.88\n",
       "Df Residuals:                      34   BIC:                             101.7\n",
       "Df Model:                           2                                         \n",
       "Covariance Type:            nonrobust                                         \n",
       "==============================================================================\n",
       "                 coef    std err          t      P>|t|      [0.025      0.975]\n",
       "------------------------------------------------------------------------------\n",
       "Intercept     -3.7133      1.169     -3.177      0.003      -6.089      -1.338\n",
       "PIQ            0.0131      0.006      2.074      0.046       0.000       0.026\n",
       "Weight         0.0130      0.006      2.095      0.044       0.000       0.026\n",
       "==============================================================================\n",
       "Omnibus:                        0.655   Durbin-Watson:                   2.085\n",
       "Prob(Omnibus):                  0.721   Jarque-Bera (JB):                0.139\n",
       "Skew:                          -0.115   Prob(JB):                        0.933\n",
       "Kurtosis:                       3.193   Cond. No.                     1.56e+03\n",
       "==============================================================================\n",
       "\n",
       "Warnings:\n",
       "[1] Standard Errors assume that the covariance matrix of the errors is correctly specified.\n",
       "[2] The condition number is large, 1.56e+03. This might indicate that there are\n",
       "strong multicollinearity or other numerical problems.\n",
       "\"\"\""
      ]
     },
     "execution_count": 7,
     "metadata": {},
     "output_type": "execute_result"
    }
   ],
   "source": [
    "model = ols('partY ~ PIQ + Weight', data=df_without_first).fit()\n",
    "model.summary()"
   ]
  },
  {
   "cell_type": "code",
   "execution_count": 8,
   "metadata": {
    "scrolled": true
   },
   "outputs": [
    {
     "data": {
      "image/png": "[encoded data removed]",
      "text/plain": [
       "<Figure size 576x360 with 2 Axes>"
      ]
     },
     "metadata": {
      "needs_background": "light"
     },
     "output_type": "display_data"
    }
   ],
   "source": [
    "fig = sns.pairplot(df, x_vars=[\"PIQ\", \"Weight\"], y_vars=[\"partY\"],\n",
    "             height=5, aspect=.8, kind=\"reg\");\n",
    "fig.savefig('pairplot_partY.png')"
   ]
  },
  {
   "cell_type": "code",
   "execution_count": 9,
   "metadata": {},
   "outputs": [],
   "source": [
    "np.random.seed(1)"
   ]
  },
  {
   "cell_type": "code",
   "execution_count": 10,
   "metadata": {},
   "outputs": [
    {
     "name": "stdout",
     "output_type": "stream",
     "text": [
      "   Gender  FSIQ  VIQ  PIQ  Weight  Height  MRI_Count     partY    partY2\n",
      "1  Female   133  132  124   118.0    64.5     816932  0.496714  1.624345\n",
      "2    Male   140  150  124     NaN    72.5    1001121 -0.138264 -0.611756\n",
      "3    Male   139  123  150   143.0    73.3    1038437  0.647689 -0.528172\n",
      "4    Male   133  129  128   172.0    68.8     965353  1.523030 -1.072969\n",
      "5  Female   137  132  134   147.0    65.0     951545 -0.234153  0.865408\n"
     ]
    }
   ],
   "source": [
    "partY2 = np.random.normal(loc=0.0, scale=1.0, size=len(df.index))\n",
    "df.insert(len(df.columns), 'partY2', partY2)\n",
    "print(df.head(5))\n",
    "df.to_csv('data_used_in_analysis.csv')"
   ]
  },
  {
   "cell_type": "code",
   "execution_count": 11,
   "metadata": {
    "scrolled": true
   },
   "outputs": [
    {
     "data": {
      "text/html": [
       "<table class=\"simpletable\">\n",
       "<caption>OLS Regression Results</caption>\n",
       "<tr>\n",
       "  <th>Dep. Variable:</th>         <td>partY2</td>      <th>  R-squared:         </th> <td>   0.095</td>\n",
       "</tr>\n",
       "<tr>\n",
       "  <th>Model:</th>                   <td>OLS</td>       <th>  Adj. R-squared:    </th> <td>   0.044</td>\n",
       "</tr>\n",
       "<tr>\n",
       "  <th>Method:</th>             <td>Least Squares</td>  <th>  F-statistic:       </th> <td>   1.843</td>\n",
       "</tr>\n",
       "<tr>\n",
       "  <th>Date:</th>             <td>Sun, 31 May 2020</td> <th>  Prob (F-statistic):</th>  <td> 0.173</td> \n",
       "</tr>\n",
       "<tr>\n",
       "  <th>Time:</th>                 <td>21:48:30</td>     <th>  Log-Likelihood:    </th> <td> -50.917</td>\n",
       "</tr>\n",
       "<tr>\n",
       "  <th>No. Observations:</th>      <td>    38</td>      <th>  AIC:               </th> <td>   107.8</td>\n",
       "</tr>\n",
       "<tr>\n",
       "  <th>Df Residuals:</th>          <td>    35</td>      <th>  BIC:               </th> <td>   112.7</td>\n",
       "</tr>\n",
       "<tr>\n",
       "  <th>Df Model:</th>              <td>     2</td>      <th>                     </th>     <td> </td>   \n",
       "</tr>\n",
       "<tr>\n",
       "  <th>Covariance Type:</th>      <td>nonrobust</td>    <th>                     </th>     <td> </td>   \n",
       "</tr>\n",
       "</table>\n",
       "<table class=\"simpletable\">\n",
       "<tr>\n",
       "      <td></td>         <th>coef</th>     <th>std err</th>      <th>t</th>      <th>P>|t|</th>  <th>[0.025</th>    <th>0.975]</th>  \n",
       "</tr>\n",
       "<tr>\n",
       "  <th>Intercept</th> <td>    2.3327</td> <td>    1.291</td> <td>    1.807</td> <td> 0.079</td> <td>   -0.287</td> <td>    4.953</td>\n",
       "</tr>\n",
       "<tr>\n",
       "  <th>PIQ</th>       <td>   -0.0052</td> <td>    0.007</td> <td>   -0.748</td> <td> 0.460</td> <td>   -0.019</td> <td>    0.009</td>\n",
       "</tr>\n",
       "<tr>\n",
       "  <th>Weight</th>    <td>   -0.0119</td> <td>    0.007</td> <td>   -1.766</td> <td> 0.086</td> <td>   -0.026</td> <td>    0.002</td>\n",
       "</tr>\n",
       "</table>\n",
       "<table class=\"simpletable\">\n",
       "<tr>\n",
       "  <th>Omnibus:</th>       <td> 0.356</td> <th>  Durbin-Watson:     </th> <td>   2.345</td>\n",
       "</tr>\n",
       "<tr>\n",
       "  <th>Prob(Omnibus):</th> <td> 0.837</td> <th>  Jarque-Bera (JB):  </th> <td>   0.320</td>\n",
       "</tr>\n",
       "<tr>\n",
       "  <th>Skew:</th>          <td>-0.202</td> <th>  Prob(JB):          </th> <td>   0.852</td>\n",
       "</tr>\n",
       "<tr>\n",
       "  <th>Kurtosis:</th>      <td> 2.802</td> <th>  Cond. No.          </th> <td>1.56e+03</td>\n",
       "</tr>\n",
       "</table><br/><br/>Warnings:<br/>[1] Standard Errors assume that the covariance matrix of the errors is correctly specified.<br/>[2] The condition number is large, 1.56e+03. This might indicate that there are<br/>strong multicollinearity or other numerical problems."
      ],
      "text/plain": [
       "<class 'statsmodels.iolib.summary.Summary'>\n",
       "\"\"\"\n",
       "                            OLS Regression Results                            \n",
       "==============================================================================\n",
       "Dep. Variable:                 partY2   R-squared:                       0.095\n",
       "Model:                            OLS   Adj. R-squared:                  0.044\n",
       "Method:                 Least Squares   F-statistic:                     1.843\n",
       "Date:                Sun, 31 May 2020   Prob (F-statistic):              0.173\n",
       "Time:                        21:48:30   Log-Likelihood:                -50.917\n",
       "No. Observations:                  38   AIC:                             107.8\n",
       "Df Residuals:                      35   BIC:                             112.7\n",
       "Df Model:                           2                                         \n",
       "Covariance Type:            nonrobust                                         \n",
       "==============================================================================\n",
       "                 coef    std err          t      P>|t|      [0.025      0.975]\n",
       "------------------------------------------------------------------------------\n",
       "Intercept      2.3327      1.291      1.807      0.079      -0.287       4.953\n",
       "PIQ           -0.0052      0.007     -0.748      0.460      -0.019       0.009\n",
       "Weight        -0.0119      0.007     -1.766      0.086      -0.026       0.002\n",
       "==============================================================================\n",
       "Omnibus:                        0.356   Durbin-Watson:                   2.345\n",
       "Prob(Omnibus):                  0.837   Jarque-Bera (JB):                0.320\n",
       "Skew:                          -0.202   Prob(JB):                        0.852\n",
       "Kurtosis:                       2.802   Cond. No.                     1.56e+03\n",
       "==============================================================================\n",
       "\n",
       "Warnings:\n",
       "[1] Standard Errors assume that the covariance matrix of the errors is correctly specified.\n",
       "[2] The condition number is large, 1.56e+03. This might indicate that there are\n",
       "strong multicollinearity or other numerical problems.\n",
       "\"\"\""
      ]
     },
     "execution_count": 11,
     "metadata": {},
     "output_type": "execute_result"
    }
   ],
   "source": [
    "model = ols('partY2 ~ PIQ + Weight', data=df).fit()\n",
    "model.summary()"
   ]
  }
 ],
 "metadata": {
  "colab": {
   "name": "my_analysis.ipynb",
   "provenance": []
  },
  "kernelspec": {
   "display_name": "Python 3",
   "language": "python",
   "name": "python3"
  },
  "language_info": {
   "codemirror_mode": {
    "name": "ipython",
    "version": 3
   },
   "file_extension": ".py",
   "mimetype": "text/x-python",
   "name": "python",
   "nbconvert_exporter": "python",
   "pygments_lexer": "ipython3",
   "version": "3.7.6"
  }
 },
 "nbformat": 4,
 "nbformat_minor": 1
}
