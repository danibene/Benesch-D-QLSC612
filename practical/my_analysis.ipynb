{
  "nbformat": 4,
  "nbformat_minor": 0,
  "metadata": {
    "colab": {
      "name": "my_analysis.ipynb",
      "provenance": []
    },
    "kernelspec": {
      "name": "python3",
      "display_name": "Python 3"
    }
  },
  "cells": [
    {
      "cell_type": "code",
      "metadata": {
        "id": "8jwGNrxb4E2y",
        "colab_type": "code",
        "colab": {
          "base_uri": "https://localhost:8080/",
          "height": 51
        },
        "outputId": "ea50b254-0f56-4ec3-f8bd-aa3f49212452"
      },
      "source": [
        "import numpy as np\n",
        "import pandas as pd\n",
        "from statsmodels.formula.api import ols"
      ],
      "execution_count": 3,
      "outputs": [
        {
          "output_type": "stream",
          "text": [
            "/usr/local/lib/python3.6/dist-packages/statsmodels/tools/_testing.py:19: FutureWarning: pandas.util.testing is deprecated. Use the functions in the public API at pandas.testing instead.\n",
            "  import pandas.util.testing as tm\n"
          ],
          "name": "stderr"
        }
      ]
    },
    {
      "cell_type": "code",
      "metadata": {
        "id": "MeIt8OdksqQS",
        "colab_type": "code",
        "colab": {}
      },
      "source": [
        "np.random.seed(42)"
      ],
      "execution_count": 0,
      "outputs": []
    },
    {
      "cell_type": "code",
      "metadata": {
        "id": "ZGEoDXkUsnUf",
        "colab_type": "code",
        "outputId": "639f0db8-f02b-45ab-bf50-3722a0c7ec08",
        "colab": {
          "base_uri": "https://localhost:8080/",
          "height": 136
        }
      },
      "source": [
        "url = 'https://raw.githubusercontent.com/neurodatascience/course-2020-assessments/master/practical/brainsize.csv'\n",
        "df = pd.read_csv(url, sep=';', na_values='.', index_col=0)\n",
        "\n",
        "print(df.head(5))\n",
        "print(len(df.index))"
      ],
      "execution_count": 5,
      "outputs": [
        {
          "output_type": "stream",
          "text": [
            "   Gender  FSIQ  VIQ  PIQ  Weight  Height  MRI_Count\n",
            "1  Female   133  132  124   118.0    64.5     816932\n",
            "2    Male   140  150  124     NaN    72.5    1001121\n",
            "3    Male   139  123  150   143.0    73.3    1038437\n",
            "4    Male   133  129  128   172.0    68.8     965353\n",
            "5  Female   137  132  134   147.0    65.0     951545\n",
            "40\n"
          ],
          "name": "stdout"
        }
      ]
    },
    {
      "cell_type": "code",
      "metadata": {
        "id": "jqCWrN-1vU3C",
        "colab_type": "code",
        "outputId": "1da56344-05c1-41ca-fb74-1e110c38c816",
        "colab": {
          "base_uri": "https://localhost:8080/",
          "height": 119
        }
      },
      "source": [
        "partY = np.random.normal(loc=0.0, scale=1.0, size=len(df.index))\n",
        "df.insert(len(df.columns), 'partY', partY)\n",
        "print(df.head(5))"
      ],
      "execution_count": 6,
      "outputs": [
        {
          "output_type": "stream",
          "text": [
            "   Gender  FSIQ  VIQ  PIQ  Weight  Height  MRI_Count     partY\n",
            "1  Female   133  132  124   118.0    64.5     816932  0.496714\n",
            "2    Male   140  150  124     NaN    72.5    1001121 -0.138264\n",
            "3    Male   139  123  150   143.0    73.3    1038437  0.647689\n",
            "4    Male   133  129  128   172.0    68.8     965353  1.523030\n",
            "5  Female   137  132  134   147.0    65.0     951545 -0.234153\n"
          ],
          "name": "stdout"
        }
      ]
    },
    {
      "cell_type": "code",
      "metadata": {
        "id": "xCPgzivvqrBu",
        "colab_type": "code",
        "outputId": "35deeb61-b6b2-41db-aafa-b1dd369e3ac2",
        "colab": {
          "base_uri": "https://localhost:8080/",
          "height": 34
        }
      },
      "source": [
        "not_partY = list(df.columns[0:len(df.columns)-1])\n",
        "print(not_partY)"
      ],
      "execution_count": 7,
      "outputs": [
        {
          "output_type": "stream",
          "text": [
            "['Gender', 'FSIQ', 'VIQ', 'PIQ', 'Weight', 'Height', 'MRI_Count']\n"
          ],
          "name": "stdout"
        }
      ]
    },
    {
      "cell_type": "code",
      "metadata": {
        "id": "fqnp-bpDn7w2",
        "colab_type": "code",
        "colab": {}
      },
      "source": [
        "import itertools\n",
        "def generate_formula_ends(df):\n",
        "  variable_combos = []\n",
        "  formula_ends = []\n",
        "  not_partY = list(df.columns[0:len(df.columns)-1])\n",
        "  count = len(not_partY) - 1\n",
        "  while count > 0:\n",
        "    for combination in itertools.combinations(not_partY, count):\n",
        "        variable_combos.append(combination)\n",
        "    count -= 1\n",
        "  for variable_combo in variable_combos:\n",
        "    for index in range(len(variable_combo)):\n",
        "      if index == 0:\n",
        "        formula_string = str(variable_combo[index])\n",
        "      else:\n",
        "        formula_string = formula_string + ' + ' + variable_combo[index]\n",
        "    formula_ends.append(formula_string)\n",
        "  return formula_ends"
      ],
      "execution_count": 0,
      "outputs": []
    },
    {
      "cell_type": "code",
      "metadata": {
        "id": "iuSk0wNWHCBG",
        "colab_type": "code",
        "colab": {}
      },
      "source": [
        "def gen_dict_p(df):\n",
        "  dict_formulas = {}\n",
        "  formula_ends = generate_formula_ends(df)\n",
        "  for formula_end in formula_ends:\n",
        "    formula = 'partY ~ ' + formula_end\n",
        "    model = ols(formula, data=df)\n",
        "    results = model.fit()\n",
        "    dict_formulas[formula_end] = results.pvalues\n",
        "  return dict_formulas"
      ],
      "execution_count": 0,
      "outputs": []
    },
    {
      "cell_type": "code",
      "metadata": {
        "id": "J26qgl053JRn",
        "colab_type": "code",
        "colab": {}
      },
      "source": [
        "def find_lowest(dict_formulas):\n",
        "  lowest_p_value = 42\n",
        "  lowest_formula_end = \"\"\n",
        "  for formula_ends, p_values in dict_formulas.items():\n",
        "      min_p_value = min(p_values)\n",
        "      if min_p_value < lowest_p_value:\n",
        "          lowest_p_value = min_p_value\n",
        "          lowest_formula_end = formula_ends\n",
        "  return [lowest_p_value, lowest_formula_end]"
      ],
      "execution_count": 0,
      "outputs": []
    },
    {
      "cell_type": "code",
      "metadata": {
        "id": "wjsKwBg_38TK",
        "colab_type": "code",
        "colab": {}
      },
      "source": [
        "def check_p_for_first(df):\n",
        "  dict_formulas = gen_dict_p(df)\n",
        "  lowest_formula = find_lowest(dict_formulas)\n",
        "  # see if excluding first participant leads to lower p value\n",
        "  recruited_minus_first = df.tail(len(df) - 1)\n",
        "  dict_formulas_minus_first = gen_dict_p(recruited_minus_first)\n",
        "  lowest_formula_minus_first = find_lowest(dict_formulas_minus_first)\n",
        "  return ['With first', lowest_formula, 'Without first', lowest_formula_minus_first]"
      ],
      "execution_count": 0,
      "outputs": []
    },
    {
      "cell_type": "code",
      "metadata": {
        "id": "I9lJfA9lA279",
        "colab_type": "code",
        "colab": {
          "base_uri": "https://localhost:8080/",
          "height": 34
        },
        "outputId": "20ff11c9-b1fd-4b52-e687-d095b6e02fa7"
      },
      "source": [
        "compare_excluding = check_p_for_first(df)\n",
        "print(compare_excluding)"
      ],
      "execution_count": 19,
      "outputs": [
        {
          "output_type": "stream",
          "text": [
            "['With first', [0.0047084705657578, 'PIQ + Weight'], 'Without first', [0.0031635498420755645, 'PIQ + Weight']]\n"
          ],
          "name": "stdout"
        }
      ]
    },
    {
      "cell_type": "code",
      "metadata": {
        "id": "t8QTKBiNEbvJ",
        "colab_type": "code",
        "outputId": "55da8e94-2b62-4c0d-837d-a40f58a65f0b",
        "colab": {
          "base_uri": "https://localhost:8080/",
          "height": 499
        }
      },
      "source": [
        "model = ols('partY ~ PIQ + Weight', data=df).fit()\n",
        "model.summary()"
      ],
      "execution_count": 21,
      "outputs": [
        {
          "output_type": "execute_result",
          "data": {
            "text/html": [
              "<table class=\"simpletable\">\n",
              "<caption>OLS Regression Results</caption>\n",
              "<tr>\n",
              "  <th>Dep. Variable:</th>          <td>partY</td>      <th>  R-squared:         </th> <td>   0.191</td>\n",
              "</tr>\n",
              "<tr>\n",
              "  <th>Model:</th>                   <td>OLS</td>       <th>  Adj. R-squared:    </th> <td>   0.145</td>\n",
              "</tr>\n",
              "<tr>\n",
              "  <th>Method:</th>             <td>Least Squares</td>  <th>  F-statistic:       </th> <td>   4.134</td>\n",
              "</tr>\n",
              "<tr>\n",
              "  <th>Date:</th>             <td>Sun, 31 May 2020</td> <th>  Prob (F-statistic):</th>  <td>0.0244</td> \n",
              "</tr>\n",
              "<tr>\n",
              "  <th>Time:</th>                 <td>19:01:16</td>     <th>  Log-Likelihood:    </th> <td> -46.908</td>\n",
              "</tr>\n",
              "<tr>\n",
              "  <th>No. Observations:</th>      <td>    38</td>      <th>  AIC:               </th> <td>   99.82</td>\n",
              "</tr>\n",
              "<tr>\n",
              "  <th>Df Residuals:</th>          <td>    35</td>      <th>  BIC:               </th> <td>   104.7</td>\n",
              "</tr>\n",
              "<tr>\n",
              "  <th>Df Model:</th>              <td>     2</td>      <th>                     </th>     <td> </td>   \n",
              "</tr>\n",
              "<tr>\n",
              "  <th>Covariance Type:</th>      <td>nonrobust</td>    <th>                     </th>     <td> </td>   \n",
              "</tr>\n",
              "</table>\n",
              "<table class=\"simpletable\">\n",
              "<tr>\n",
              "      <td></td>         <th>coef</th>     <th>std err</th>      <th>t</th>      <th>P>|t|</th>  <th>[0.025</th>    <th>0.975]</th>  \n",
              "</tr>\n",
              "<tr>\n",
              "  <th>Intercept</th> <td>   -3.5064</td> <td>    1.161</td> <td>   -3.019</td> <td> 0.005</td> <td>   -5.864</td> <td>   -1.149</td>\n",
              "</tr>\n",
              "<tr>\n",
              "  <th>PIQ</th>       <td>    0.0138</td> <td>    0.006</td> <td>    2.186</td> <td> 0.036</td> <td>    0.001</td> <td>    0.027</td>\n",
              "</tr>\n",
              "<tr>\n",
              "  <th>Weight</th>    <td>    0.0113</td> <td>    0.006</td> <td>    1.863</td> <td> 0.071</td> <td>   -0.001</td> <td>    0.024</td>\n",
              "</tr>\n",
              "</table>\n",
              "<table class=\"simpletable\">\n",
              "<tr>\n",
              "  <th>Omnibus:</th>       <td> 0.663</td> <th>  Durbin-Watson:     </th> <td>   2.013</td>\n",
              "</tr>\n",
              "<tr>\n",
              "  <th>Prob(Omnibus):</th> <td> 0.718</td> <th>  Jarque-Bera (JB):  </th> <td>   0.203</td>\n",
              "</tr>\n",
              "<tr>\n",
              "  <th>Skew:</th>          <td>-0.166</td> <th>  Prob(JB):          </th> <td>   0.903</td>\n",
              "</tr>\n",
              "<tr>\n",
              "  <th>Kurtosis:</th>      <td> 3.136</td> <th>  Cond. No.          </th> <td>1.56e+03</td>\n",
              "</tr>\n",
              "</table><br/><br/>Warnings:<br/>[1] Standard Errors assume that the covariance matrix of the errors is correctly specified.<br/>[2] The condition number is large, 1.56e+03. This might indicate that there are<br/>strong multicollinearity or other numerical problems."
            ],
            "text/plain": [
              "<class 'statsmodels.iolib.summary.Summary'>\n",
              "\"\"\"\n",
              "                            OLS Regression Results                            \n",
              "==============================================================================\n",
              "Dep. Variable:                  partY   R-squared:                       0.191\n",
              "Model:                            OLS   Adj. R-squared:                  0.145\n",
              "Method:                 Least Squares   F-statistic:                     4.134\n",
              "Date:                Sun, 31 May 2020   Prob (F-statistic):             0.0244\n",
              "Time:                        19:01:16   Log-Likelihood:                -46.908\n",
              "No. Observations:                  38   AIC:                             99.82\n",
              "Df Residuals:                      35   BIC:                             104.7\n",
              "Df Model:                           2                                         \n",
              "Covariance Type:            nonrobust                                         \n",
              "==============================================================================\n",
              "                 coef    std err          t      P>|t|      [0.025      0.975]\n",
              "------------------------------------------------------------------------------\n",
              "Intercept     -3.5064      1.161     -3.019      0.005      -5.864      -1.149\n",
              "PIQ            0.0138      0.006      2.186      0.036       0.001       0.027\n",
              "Weight         0.0113      0.006      1.863      0.071      -0.001       0.024\n",
              "==============================================================================\n",
              "Omnibus:                        0.663   Durbin-Watson:                   2.013\n",
              "Prob(Omnibus):                  0.718   Jarque-Bera (JB):                0.203\n",
              "Skew:                          -0.166   Prob(JB):                        0.903\n",
              "Kurtosis:                       3.136   Cond. No.                     1.56e+03\n",
              "==============================================================================\n",
              "\n",
              "Warnings:\n",
              "[1] Standard Errors assume that the covariance matrix of the errors is correctly specified.\n",
              "[2] The condition number is large, 1.56e+03. This might indicate that there are\n",
              "strong multicollinearity or other numerical problems.\n",
              "\"\"\""
            ]
          },
          "metadata": {
            "tags": []
          },
          "execution_count": 21
        }
      ]
    },
    {
      "cell_type": "code",
      "metadata": {
        "id": "cLBerNthF6Hk",
        "colab_type": "code",
        "colab": {}
      },
      "source": [
        "new_df = df.drop(1)"
      ],
      "execution_count": 0,
      "outputs": []
    },
    {
      "cell_type": "code",
      "metadata": {
        "id": "T2MeqVXMAElX",
        "colab_type": "code",
        "outputId": "8b07eb88-4f82-44dc-b5ff-48117da13d78",
        "colab": {
          "base_uri": "https://localhost:8080/",
          "height": 499
        }
      },
      "source": [
        "model = ols('partY ~ PIQ + Weight', data=new_df).fit()\n",
        "model.summary()"
      ],
      "execution_count": 23,
      "outputs": [
        {
          "output_type": "execute_result",
          "data": {
            "text/html": [
              "<table class=\"simpletable\">\n",
              "<caption>OLS Regression Results</caption>\n",
              "<tr>\n",
              "  <th>Dep. Variable:</th>          <td>partY</td>      <th>  R-squared:         </th> <td>   0.208</td>\n",
              "</tr>\n",
              "<tr>\n",
              "  <th>Model:</th>                   <td>OLS</td>       <th>  Adj. R-squared:    </th> <td>   0.161</td>\n",
              "</tr>\n",
              "<tr>\n",
              "  <th>Method:</th>             <td>Least Squares</td>  <th>  F-statistic:       </th> <td>   4.458</td>\n",
              "</tr>\n",
              "<tr>\n",
              "  <th>Date:</th>             <td>Sun, 31 May 2020</td> <th>  Prob (F-statistic):</th>  <td>0.0191</td> \n",
              "</tr>\n",
              "<tr>\n",
              "  <th>Time:</th>                 <td>19:01:18</td>     <th>  Log-Likelihood:    </th> <td> -45.440</td>\n",
              "</tr>\n",
              "<tr>\n",
              "  <th>No. Observations:</th>      <td>    37</td>      <th>  AIC:               </th> <td>   96.88</td>\n",
              "</tr>\n",
              "<tr>\n",
              "  <th>Df Residuals:</th>          <td>    34</td>      <th>  BIC:               </th> <td>   101.7</td>\n",
              "</tr>\n",
              "<tr>\n",
              "  <th>Df Model:</th>              <td>     2</td>      <th>                     </th>     <td> </td>   \n",
              "</tr>\n",
              "<tr>\n",
              "  <th>Covariance Type:</th>      <td>nonrobust</td>    <th>                     </th>     <td> </td>   \n",
              "</tr>\n",
              "</table>\n",
              "<table class=\"simpletable\">\n",
              "<tr>\n",
              "      <td></td>         <th>coef</th>     <th>std err</th>      <th>t</th>      <th>P>|t|</th>  <th>[0.025</th>    <th>0.975]</th>  \n",
              "</tr>\n",
              "<tr>\n",
              "  <th>Intercept</th> <td>   -3.7133</td> <td>    1.169</td> <td>   -3.177</td> <td> 0.003</td> <td>   -6.089</td> <td>   -1.338</td>\n",
              "</tr>\n",
              "<tr>\n",
              "  <th>PIQ</th>       <td>    0.0131</td> <td>    0.006</td> <td>    2.074</td> <td> 0.046</td> <td>    0.000</td> <td>    0.026</td>\n",
              "</tr>\n",
              "<tr>\n",
              "  <th>Weight</th>    <td>    0.0130</td> <td>    0.006</td> <td>    2.095</td> <td> 0.044</td> <td>    0.000</td> <td>    0.026</td>\n",
              "</tr>\n",
              "</table>\n",
              "<table class=\"simpletable\">\n",
              "<tr>\n",
              "  <th>Omnibus:</th>       <td> 0.655</td> <th>  Durbin-Watson:     </th> <td>   2.085</td>\n",
              "</tr>\n",
              "<tr>\n",
              "  <th>Prob(Omnibus):</th> <td> 0.721</td> <th>  Jarque-Bera (JB):  </th> <td>   0.139</td>\n",
              "</tr>\n",
              "<tr>\n",
              "  <th>Skew:</th>          <td>-0.115</td> <th>  Prob(JB):          </th> <td>   0.933</td>\n",
              "</tr>\n",
              "<tr>\n",
              "  <th>Kurtosis:</th>      <td> 3.193</td> <th>  Cond. No.          </th> <td>1.56e+03</td>\n",
              "</tr>\n",
              "</table><br/><br/>Warnings:<br/>[1] Standard Errors assume that the covariance matrix of the errors is correctly specified.<br/>[2] The condition number is large, 1.56e+03. This might indicate that there are<br/>strong multicollinearity or other numerical problems."
            ],
            "text/plain": [
              "<class 'statsmodels.iolib.summary.Summary'>\n",
              "\"\"\"\n",
              "                            OLS Regression Results                            \n",
              "==============================================================================\n",
              "Dep. Variable:                  partY   R-squared:                       0.208\n",
              "Model:                            OLS   Adj. R-squared:                  0.161\n",
              "Method:                 Least Squares   F-statistic:                     4.458\n",
              "Date:                Sun, 31 May 2020   Prob (F-statistic):             0.0191\n",
              "Time:                        19:01:18   Log-Likelihood:                -45.440\n",
              "No. Observations:                  37   AIC:                             96.88\n",
              "Df Residuals:                      34   BIC:                             101.7\n",
              "Df Model:                           2                                         \n",
              "Covariance Type:            nonrobust                                         \n",
              "==============================================================================\n",
              "                 coef    std err          t      P>|t|      [0.025      0.975]\n",
              "------------------------------------------------------------------------------\n",
              "Intercept     -3.7133      1.169     -3.177      0.003      -6.089      -1.338\n",
              "PIQ            0.0131      0.006      2.074      0.046       0.000       0.026\n",
              "Weight         0.0130      0.006      2.095      0.044       0.000       0.026\n",
              "==============================================================================\n",
              "Omnibus:                        0.655   Durbin-Watson:                   2.085\n",
              "Prob(Omnibus):                  0.721   Jarque-Bera (JB):                0.139\n",
              "Skew:                          -0.115   Prob(JB):                        0.933\n",
              "Kurtosis:                       3.193   Cond. No.                     1.56e+03\n",
              "==============================================================================\n",
              "\n",
              "Warnings:\n",
              "[1] Standard Errors assume that the covariance matrix of the errors is correctly specified.\n",
              "[2] The condition number is large, 1.56e+03. This might indicate that there are\n",
              "strong multicollinearity or other numerical problems.\n",
              "\"\"\""
            ]
          },
          "metadata": {
            "tags": []
          },
          "execution_count": 23
        }
      ]
    }
  ]
}